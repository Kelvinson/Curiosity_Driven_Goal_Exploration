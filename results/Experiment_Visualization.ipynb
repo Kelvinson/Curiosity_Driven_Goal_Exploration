{
 "cells": [
  {
   "cell_type": "markdown",
   "metadata": {},
   "source": [
    "# Comparison of different approches"
   ]
  },
  {
   "cell_type": "code",
   "execution_count": 1,
   "metadata": {},
   "outputs": [],
   "source": [
    "import numpy as np\n",
    "import seaborn as sns\n",
    "import pandas as pd\n",
    "import copy\n",
    "import matplotlib.pyplot as plt\n",
    "import ipywidgets\n",
    "%matplotlib notebook\n",
    "# plt.style.use('seaborn-darkgrid')\n",
    "import pickle\n",
    "import os\n",
    "import json\n",
    "import scipy.stats\n",
    "from tqdm import tqdm_notebook as tqdm\n",
    "from sklearn.neighbors import NearestNeighbors"
   ]
  },
  {
   "cell_type": "code",
   "execution_count": 77,
   "metadata": {},
   "outputs": [],
   "source": [
    "folders = [fil for fil in os.listdir('./campaign/armballs/') if fil[0] == \"M\" or fil[0] == \"R\"]"
   ]
  },
  {
   "cell_type": "code",
   "execution_count": null,
   "metadata": {},
   "outputs": [],
   "source": [
    "def exploration(X_s, bins=10):\n",
    "    \"\"\"\n",
    "    This function computes the exploration measure, i.e. the number of cells reached in the state space.\n",
    "\n",
    "    Args:\n",
    "        + X_s: the set of explored states\n",
    "        + bins: the number of bins per dimension\n",
    "    \"\"\"\n",
    "\n",
    "    n_samples, n_dim = X_s.shape\n",
    "    hist, _ = np.histogramdd(X_s, bins=bins, range=np.array([[-1]*n_dim, [1]* n_dim]).T)\n",
    "    \n",
    "    return float(hist[hist>0].size) / float(hist.size)\n",
    "\n",
    "def discretized_entropy(X_s, n_bins=30):\n",
    "    \n",
    "    n_samples, n_dim = X_s.shape\n",
    "    histp , _ = np.histogramdd(X_s, bins=n_bins, range=np.array([[-1]*n_dim, [1]* n_dim]).T)\n",
    "    histp = histp.ravel() / histp.sum()\n",
    "    \n",
    "    return scipy.stats.entropy(histp)\n",
    "\n",
    "def sdnn(data):\n",
    "    if data.shape[0] == 0:\n",
    "        return 0\n",
    "    model = NearestNeighbors(n_neighbors=2)\n",
    "    model.fit(data)\n",
    "    d, _ = model.kneighbors(data)\n",
    "\n",
    "    return d[:, 1].sum()"
   ]
  },
  {
   "cell_type": "code",
   "execution_count": null,
   "metadata": {},
   "outputs": [],
   "source": [
    "dataset = pd.DataFrame()"
   ]
  },
  {
   "cell_type": "code",
   "execution_count": 3,
   "metadata": {
    "scrolled": true
   },
   "outputs": [],
   "source": [
    "for fold in tqdm(folders):\n",
    "    \n",
    "    try:  \n",
    "        with open(os.path.join('./campaign/armballs/' + fold, \"config.json\")) as f:\n",
    "            config = json.load(f)\n",
    "\n",
    "        explored_states = np.load(os.path.join('./campaign/armballs/' + fold, 'explored_states.npy'))\n",
    "\n",
    "    except Exception as e:\n",
    "        print(\"Folder %s failed with exception %s\" % (fold, str(e)))\n",
    "        continue\n",
    "\n",
    "    max_iter = 10000\n",
    "    n_epochs = 30\n",
    "    for i in range(n_epochs):\n",
    "        serie = copy.copy(config)\n",
    "        iteration = int(i * max_iter / n_epochs)\n",
    "        serie.update({'epoch': iteration})\n",
    "        serie.update({'distribution_entropy': discretized_kl_div(explored_states[:iteration])})\n",
    "        serie.update({'entropy': discretized_entropy(explored_states[:iteration, -2:])})\n",
    "        serie.update({'exploration_30': exploration(explored_states[:iteration, -2:], bins=30)})\n",
    "        serie.update({'exploration_50': exploration(explored_states[:iteration, -2:], bins=50)})\n",
    "        serie.update({'sdnn': sdnn(explored_states[:iteration, -2:])})\n",
    "        \n",
    "        dataset = dataset.append(serie, ignore_index=True)"
   ]
  },
  {
   "cell_type": "code",
   "execution_count": 393,
   "metadata": {},
   "outputs": [
    {
     "name": "stderr",
     "output_type": "stream",
     "text": [
      "/home/adrien/anaconda3/envs/py-3.6/lib/python3.6/site-packages/ipykernel_launcher.py:1: FutureWarning: currently extract(expand=None) means expand=False (return Index/Series/DataFrame) but in a future version of pandas this will be changed to expand=True (return DataFrame)\n",
      "  \"\"\"Entry point for launching an IPython kernel.\n"
     ]
    }
   ],
   "source": [
    "ds = dataset['name'].str.extract(\"^(.*)\\:(armballs|Armball|Armarrow)\")\n",
    "dataset[\"algorithm\"] = ds[0]"
   ]
  },
  {
   "cell_type": "code",
   "execution_count": 394,
   "metadata": {
    "collapsed": true
   },
   "outputs": [],
   "source": [
    "dataset = dataset.replace('MGE-REP_rep:betavae_nmodules:5_im:normal_env', 'MGE-betaVAE')\n",
    "dataset = dataset.replace('MGE-REP_rep:vae_nmodules:5_im:normal_env', 'MGE-VAE')\n",
    "dataset = dataset.replace('MGE-REP_rep:betavae_nmodules:1_im:normal_env', 'RGE-betaVAE')\n",
    "dataset = dataset.replace('MGE-REP_rep:vae_nmodules:1_im:normal_env', 'RGE-VAE')\n",
    "dataset = dataset.replace('MGE-FI_rep:modular_im:uniform_env', 'MGE-EFR')\n",
    "dataset = dataset.replace('MGE-FI_rep:flat_im:uniform_env', 'RGE-EFR')\n",
    "dataset = dataset.replace('RPE_env', 'RPE')"
   ]
  },
  {
   "cell_type": "code",
   "execution_count": 8,
   "metadata": {
    "collapsed": true
   },
   "outputs": [],
   "source": [
    "# dataset.to_pickle(path='armballs_dataset.pkl')"
   ]
  },
  {
   "cell_type": "code",
   "execution_count": 10,
   "metadata": {},
   "outputs": [],
   "source": [
    "dataset = pd.read_pickle('armballs_dataset.pkl')"
   ]
  },
  {
   "cell_type": "markdown",
   "metadata": {},
   "source": [
    "## Comparison"
   ]
  },
  {
   "cell_type": "code",
   "execution_count": 78,
   "metadata": {},
   "outputs": [],
   "source": [
    "fontsize = 25\n",
    "explo_noise_sdev = 0.05 # or 0.1\n",
    "object_size = 0.1\n",
    "interest_model = 'normal'\n",
    "ds = ds.fillna({'interest_model': interest_model})\n",
    "ds = ds.fillna({'explo_noise_sdev': explo_noise_sdev})\n",
    "ds = ds.query('explo_noise_sdev==@explo_noise_sdev').sort_values(['algorithm'])\n",
    "ds = ds.query('object_size==@object_size')\n",
    "# ds = ds.query('interest_model==\"uniform\" or interest_model==\"normal\"')\n",
    "plt.figure(figsize=(15, 10))\n",
    "sns.tsplot(data=ds, time='epoch', value='exploration_30', unit='name', condition='algorithm', ci=95)\n",
    "plt.ylabel('Exploration ratio', fontsize=fontsize)\n",
    "plt.yticks(fontsize=fontsize)\n",
    "plt.xticks(fontsize=fontsize)\n",
    "plt.xlabel(\"Exploration epochs\", fontsize=fontsize)\n",
    "plt.legend(title=\"\", fontsize=20, loc=1, frameon=1, ncol=2, fancybox=True, bbox_to_anchor=(.58, 1.));\n",
    "# plt.savefig('figures/comparison_armballs_exploration_explonoise' + str(explo_noise_sdev) + '.png')"
   ]
  },
  {
   "cell_type": "markdown",
   "metadata": {},
   "source": [
    "## Analysis of exploration"
   ]
  },
  {
   "cell_type": "code",
   "execution_count": 4,
   "metadata": {
    "collapsed": true
   },
   "outputs": [],
   "source": [
    "# fold = 'MGE-REP_rep:betavae_nmodules:5_im:normal_env:armballs_objectsize:0.1_distract_noise:0.1_explonoise:0.1_date:060618-1801-654/'\n",
    "fold = 'MGE-REP_rep:vae_nmodules:5_im:active_env:armballs_objectsize:0.1_distract_noise:0.1_explonoise:0.1_date:060618-1723-552/'\n",
    "\n",
    "interests_evolution = np.load(os.path.join('./campaign/armballs/' + fold, 'interests_evolution.npy'))"
   ]
  },
  {
   "cell_type": "markdown",
   "metadata": {},
   "source": [
    "### Interest curves"
   ]
  },
  {
   "cell_type": "code",
   "execution_count": 8,
   "metadata": {},
   "outputs": [],
   "source": [
    "fig, ax = plt.subplots()\n",
    "ax.plot(interests_evolution[:], lw=2)\n",
    "ax.legend([\"module 0\", \"module 1\", \"module 2\", \"module 3\", \"module 4\", \"module 5\"], ncol=3)\n",
    "ax.set_xlabel('Time steps', fontsize=20)\n",
    "ax.set_ylabel('Interest', fontsize=20)\n",
    "# plt.savefig('figures/interest_mge_vae.png')"
   ]
  },
  {
   "cell_type": "markdown",
   "metadata": {},
   "source": [
    "### Explo curves"
   ]
  },
  {
   "cell_type": "code",
   "execution_count": 187,
   "metadata": {
    "collapsed": true
   },
   "outputs": [],
   "source": [
    "sorted_fold = folders[:50]\n",
    "sorted_fold.sort()"
   ]
  },
  {
   "cell_type": "code",
   "execution_count": 7,
   "metadata": {
    "scrolled": true
   },
   "outputs": [],
   "source": [
    "for fold in sorted_fold:\n",
    "    \n",
    "    with open(os.path.join('./campaign/armballs/' + fold, \"config.json\")) as f:\n",
    "        config = json.load(f)\n",
    "\n",
    "    explored_states = np.load(os.path.join('./campaign/armballs/' + fold, 'explored_states.npy'))\n",
    "\n",
    "    kls = np.zeros((99))\n",
    "    expl = np.zeros((99))\n",
    "    # X_real = sample_in_attainable(explored_states_history[498].shape[0], 'armball')\n",
    "\n",
    "    for i in range(99):   \n",
    "        #explored = explored_states_history[i*10][np.where(explored_states_history[i*10]!=[.6, .6])[1]]\n",
    "        explored = explored_states[:i*100, -2:]\n",
    "        kls[i] = exploration(explored, bins=30)\n",
    "        expl[i] = np.sum(np.linalg.norm(explored_states[:i*100, -2:] - np.array([0.6, 0.6]), axis=1, ord=2) > 1e-3)\n",
    "        #expl[i] /= explored_states_history[i*10].shape[0]\n",
    "\n",
    "    arm = scipy.misc.imread('test.png')\n",
    "    cmap='Blues'\n",
    "    plt.style.use('seaborn-darkgrid')\n",
    "\n",
    "    fig = plt.figure(figsize=(15, 5))\n",
    "    plt.suptitle(fold)\n",
    "    try:\n",
    "        plt.title(config['n_modules'])\n",
    "    except:\n",
    "        pass\n",
    "\n",
    "    ax1 = fig.add_subplot(1, 1, 1)\n",
    "    ax1.plot(kls,linewidth=1., color='royalblue')\n",
    "    ax1.tick_params(axis='y', colors='royalblue')\n",
    "    ax1.set_ylim(0, 1)\n",
    "    ax1.set_yticks(np.linspace(0, 1, 6))\n",
    "    ax1.set_xlim(0., 100.)\n",
    "    ax1.set_xlabel(\"Exploration epochs (x100)\")\n",
    "    ax1.set_ylabel(\"Exploration (cells)\", color='royalblue')\n",
    "    ax1.add_line(matplotlib.lines.Line2D([5 * 2, 5 * 2],   [kls[5] + .05, 0.6], linewidth=1))\n",
    "    ax1.add_line(matplotlib.lines.Line2D([15 * 2, 15 * 2], [kls[15] + .05, 0.6], linewidth=1))\n",
    "    ax1.add_line(matplotlib.lines.Line2D([25 * 2, 25 * 2], [kls[25] + .05, 0.6], linewidth=1))\n",
    "    ax1.add_line(matplotlib.lines.Line2D([35 * 2, 35 * 2], [kls[35] + .05, 0.6], linewidth=1))\n",
    "    ax1.add_line(matplotlib.lines.Line2D([45 * 2, 45 * 2], [kls[45] + .05, 0.6], linewidth=1))\n",
    "    points = [10, 30, 50, 70, 90]\n",
    "    ax1.scatter(points, kls[points])\n",
    "\n",
    "    ax1_2 = ax1.twinx()\n",
    "    ax1_2.locator_params(axis='y', nticks=6)\n",
    "    ax1_2.plot(expl, linewidth=1., c='mediumorchid')\n",
    "    ax1_2.tick_params(axis='y', colors='mediumorchid')\n",
    "    ax1_2.set_ylim(0., 3000.)\n",
    "    ax1_2.set_yticks(np.linspace(0, 10000., 6))\n",
    "    ax1_2.set_ylabel(\"Nb. of Object Motion\", color='mediumorchid')\n",
    "    ax1_2.set_xlim(0., 100.)\n",
    "\n",
    "    ax = fig.add_axes([0.01, 0.55, .3, .3])\n",
    "    ax.imshow(arm, extent=[-1, 1, -1, 1], alpha=.85)\n",
    "    ax.scatter(explored_states[:2000, 0], explored_states[:2000, 1], s=.5, alpha=.2)\n",
    "    ax.axis(\"off\")\n",
    "\n",
    "    ax = fig.add_axes([0.175, 0.55, .3, .3])\n",
    "    ax.imshow(arm, extent=[-1, 1, -1, 1], alpha=.85)\n",
    "    ax.scatter(explored_states[:4000, 0], explored_states[:4000, 1], s=.5, alpha=.2)\n",
    "    ax.axis(\"off\")\n",
    "\n",
    "    ax = fig.add_axes([0.35, 0.55, .3, .3])\n",
    "    ax.imshow(arm, extent=[-1, 1, -1, 1], alpha=.85)\n",
    "    ax.scatter(explored_states[:6000, 0], explored_states[:6000, 1], s=.5, alpha=.2)\n",
    "    ax.axis(\"off\")\n",
    "\n",
    "    ax = fig.add_axes([0.525, 0.55, .3, .3])\n",
    "    ax.imshow(arm, extent=[-1, 1, -1, 1], alpha=.85)\n",
    "    ax.scatter(explored_states[:8000, 0], explored_states[:8000, 1], s=.5, alpha=.2)\n",
    "    ax.axis(\"off\")\n",
    "\n",
    "    ax = fig.add_axes([0.70, 0.55, .3, .3])\n",
    "    ax.imshow(arm, extent=[-1, 1, -1, 1], alpha=.85)\n",
    "    ax.scatter(explored_states[:10000, 0], explored_states[:10000, 1], s=.5, alpha=.2)\n",
    "    ax.axis(\"off\");\n",
    "\n",
    "    plt.show()"
   ]
  },
  {
   "cell_type": "code",
   "execution_count": null,
   "metadata": {
    "collapsed": true
   },
   "outputs": [],
   "source": []
  }
 ],
 "metadata": {
  "kernelspec": {
   "display_name": "Python 3",
   "language": "python",
   "name": "python3"
  },
  "language_info": {
   "codemirror_mode": {
    "name": "ipython",
    "version": 3
   },
   "file_extension": ".py",
   "mimetype": "text/x-python",
   "name": "python",
   "nbconvert_exporter": "python",
   "pygments_lexer": "ipython3",
   "version": "3.6.5"
  }
 },
 "nbformat": 4,
 "nbformat_minor": 2
}
